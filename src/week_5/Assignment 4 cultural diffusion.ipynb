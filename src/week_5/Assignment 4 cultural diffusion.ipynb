{
 "cells": [
  {
   "cell_type": "markdown",
   "metadata": {},
   "source": [
    "# Conceptual description\n",
    "\n",
    "As people interact, they tend to become more alike in their beliefs, attitudes and behaviour. In [\"The Dissemination of Culture: A Model with Local Convergence and Global Polarization\" (1997)](https://www.jstor.org/stable/174371?seq=1#metadata_info_tab_contents), Robert Axelrod presents an agent-based model to explain cultural diffusion. Analogous to Schelling's segregation model, the key to this conceptualization is the emergence of polarization from the interaction of individual agents. The basic premise is that the more similar an actor is to a neighbor, the more likely that that actor will adopt one of the neighbor's traits.\n",
    "\n",
    "In the model below, this is implemented by initializing the model by filling an excel-like grid with agents with random values [0,1] for each of four traits (music, sports, favorite color and drink). \n",
    "\n",
    "Each step, each agent (in random order) chooses a random neighbor from its neighbors proportionaly to how similar it is to each of its neighbors, and adopts one randomly selected differing trait from this neighbor. Similarity between any two agents is calculated by the sum of identical traits.\n",
    "\n",
    "To visualize the model, the four traits are transformed into 'RGBA' (Red-Green-Blue-Alpha) values; i.e. a color and an opacity. The visualizations below show the clusters of homogeneity being formed.\n",
    "\n",
    "## implement the step method of the agent\n",
    "The first assignment is to implement the step method for the agent. \n",
    "\n",
    "1. Make a conceptual description or diagram of the step method for the agent in light of the description given above.\n",
    "2. implement the step method.\n",
    "    * you need to use self.model.grid.iter_neighborhood in order to make it work with varying neighborhood sizes\n",
    "    * self.random.choices takes an optional weights keyword argument allowing you to randomly yet proportionaly to similiary select a neighbor\n",
    "\n",
    "Compare your results with those shown below\n",
    "<div>\n",
    "<img src=\"dynamics.png\" width=\"600\"/>\n",
    "</div>\n",
    "\n"
   ]
  },
  {
   "cell_type": "code",
   "execution_count": 1,
   "metadata": {},
   "outputs": [
    {
     "data": {
      "text/html": [
       "<video src=\"diffusion.mp4\" controls  width=\"600\" >\n",
       "      Your browser does not support the <code>video</code> element.\n",
       "    </video>"
      ],
      "text/plain": [
       "<IPython.core.display.Video object>"
      ]
     },
     "execution_count": 1,
     "metadata": {},
     "output_type": "execute_result"
    }
   ],
   "source": [
    "from IPython.display import Video\n",
    "\n",
    "Video(\"diffusion.mp4\", width=600)"
   ]
  },
  {
   "cell_type": "code",
   "execution_count": 2,
   "metadata": {},
   "outputs": [],
   "source": [
    "import collections\n",
    "import random\n",
    "\n",
    "import numpy as np\n",
    "\n",
    "from mesa import Model, Agent\n",
    "from mesa.time import RandomActivation\n",
    "from mesa.space import SingleGrid\n",
    "from mesa.datacollection import DataCollector\n",
    "\n",
    "\n",
    "class CulturalDiff(Model):\n",
    "    \"\"\"\n",
    "    Model class for the Schelling segregation model.\n",
    "    \n",
    "    Parameters\n",
    "    ----------\n",
    "    height : int\n",
    "             height of grid\n",
    "    width : int\n",
    "            height of grid\n",
    "    seed : int\n",
    "            random seed\n",
    "    neighborhoood_size : int, optional\n",
    "    torus : bool, optional\n",
    "    \n",
    "    Attributes\n",
    "    ----------\n",
    "    height : int\n",
    "    width : int\n",
    "    density : float\n",
    "    schedule : RandomActivation instance\n",
    "    grid : SingleGrid instance\n",
    "    \n",
    "    \"\"\"\n",
    "\n",
    "\n",
    "    def __init__(self, height=20, width=20, seed=None,\n",
    "                neighborhood_size=1, torus=True):\n",
    "        super().__init__(seed=seed)\n",
    "        self.height = height\n",
    "        self.width = width\n",
    "        CulturalDiffAgent.neighborhood_size = neighborhood_size\n",
    "\n",
    "        self.schedule = RandomActivation(self)\n",
    "        self.grid = SingleGrid(width, height, torus=torus)\n",
    "        self.datacollector = DataCollector(model_reporters={'diversity':calculate_nr_of_cultures})\n",
    "\n",
    "        # Fill grid with agents with random traits\n",
    "        \n",
    "        # Note that this implementation does not guarantee some set distribution of traits. \n",
    "        # Therefore, examining the effect of minorities etc is not facilitated.\n",
    "        for cell in self.grid.coord_iter():\n",
    "            profile = np.asarray([self.random.choice([0,1]) for _ in range(4)])\n",
    "            \n",
    "            agent = CulturalDiffAgent(cell, self, profile)\n",
    "            self.grid.position_agent(agent, cell)\n",
    "            self.schedule.add(agent)\n",
    "\n",
    "    def step(self):\n",
    "        \"\"\"\n",
    "        Run one step of the model.\n",
    "        \"\"\"\n",
    "        self.datacollector.collect(self)\n",
    "        self.schedule.step()\n",
    "\n",
    "\n",
    "class CulturalDiffAgent(Agent):\n",
    "    \"\"\"\n",
    "    Schelling segregation agent\n",
    "    \n",
    "    Parameters\n",
    "    ----------\n",
    "    pos : tuple of 2 ints\n",
    "          the x,y coordinates in the grid\n",
    "    model : Model instance\n",
    "    profile : ndarray\n",
    "    \n",
    "    \"\"\"\n",
    "    neighborhood_size = 1\n",
    "\n",
    "    def __init__(self, pos, model, profile):\n",
    "        super().__init__(pos, model)\n",
    "        self.pos = pos\n",
    "        self.profile = profile\n",
    "        \n",
    "    def step(self):\n",
    "        \n",
    "        #For each neighbor, calculate the distance\n",
    "        neighborhood_iterator = self.model.grid.iter_neighborhood(self.pos, moore=True,\n",
    "                                                                  radius=self.neighborhood_size)\n",
    "        neighborhood_pos = [entry for entry in neighborhood_iterator]\n",
    "        neighborhood = self.model.grid.iter_cell_list_contents(neighborhood_pos)  \n",
    "        \n",
    "        neighbor_similarity_dict = {}\n",
    "        for neighbor in neighborhood:\n",
    "            neighbor_similarity = np.sum(self.profile==neighbor.profile)\n",
    "            neighbor_similarity_dict[neighbor] = neighbor_similarity\n",
    "        \n",
    "        # Proportional to this similarity, pick a 'random' neighbor to interact with\n",
    "        neighbor_to_interact = self.random.choices(list(neighbor_similarity_dict.keys()),\n",
    "                                                   weights=neighbor_similarity_dict.values())[0]\n",
    "        \n",
    "        # Select a trait that differs between the selected neighbor and self and change that trait in self\n",
    "        # we are using some numpy boolean indexing to make this short and easy\n",
    "        not_same_features = self.profile != neighbor_to_interact.profile\n",
    "        \n",
    "        if np.any(not_same_features):\n",
    "            index_for_trait = self.random.choice(np.nonzero(not_same_features)[0])\n",
    "            self.profile[index_for_trait] = neighbor_to_interact.profile[index_for_trait]\n",
    "\n",
    "\n",
    "def traits_to_color(profile):  \n",
    "    \"\"\" Converts the traits of an agent to a list of RGBA values\"\"\"\n",
    "    color = profile.copy().astype(float)\n",
    "    if color[-1]==0:\n",
    "        color[-1] = 0.2\n",
    "    return color\n",
    "\n",
    "\n",
    "def calculate_nr_of_cultures(model):\n",
    "    diversity = collections.defaultdict(int)\n",
    "    for (cell, i, j) in model.grid.coord_iter():\n",
    "        if cell:\n",
    "            diversity[tuple(cell.profile)] += 1\n",
    "\n",
    "    return len(diversity.keys())"
   ]
  },
  {
   "cell_type": "markdown",
   "metadata": {},
   "source": [
    "# Visualization"
   ]
  },
  {
   "cell_type": "markdown",
   "metadata": {},
   "source": [
    "## Static images\n",
    "### After initialization"
   ]
  },
  {
   "cell_type": "code",
   "execution_count": 3,
   "metadata": {},
   "outputs": [],
   "source": [
    "model = CulturalDiff(seed=123456789)"
   ]
  },
  {
   "cell_type": "code",
   "execution_count": 7,
   "metadata": {},
   "outputs": [
    {
     "data": {
      "image/png": "[encoded data removed]",
      "text/plain": [
       "<Figure size 864x576 with 1 Axes>"
      ]
     },
     "metadata": {},
     "output_type": "display_data"
    }
   ],
   "source": [
    "import matplotlib.pyplot as plt\n",
    "import matplotlib.colors as colors\n",
    "import seaborn as sns\n",
    "import pandas as pd\n",
    "\n",
    "\n",
    "def make_image(model):\n",
    "    grid = np.zeros((model.height, model.width, 4))\n",
    "    for (cell, i, j) in model.grid.coord_iter():\n",
    "        color = [0,0,0,0] #in case not every cell is filled, the default colour is white\n",
    "        if cell is not None:\n",
    "            color = traits_to_color(cell.profile)\n",
    "        grid[i,j] = color  \n",
    "    return grid\n",
    "\n",
    "def plot_model(model, ax):\n",
    "    grid = make_image(model)         \n",
    "    image = plt.imshow(grid)\n",
    "    return image\n",
    "    \n",
    "fig, ax = plt.subplots()\n",
    "plot_model(model, ax)\n",
    "\n",
    "plt.show()"
   ]
  },
  {
   "cell_type": "code",
   "execution_count": 8,
   "metadata": {},
   "outputs": [
    {
     "data": {
      "image/png": "[encoded data removed]",
      "text/plain": [
       "<Figure size 864x576 with 1 Axes>"
      ]
     },
     "metadata": {},
     "output_type": "display_data"
    }
   ],
   "source": [
    "from matplotlib.animation import FuncAnimation\n",
    "from matplotlib import animation\n",
    "\n",
    "model = CulturalDiff(seed=123456789)\n",
    "agents = model.schedule.agents\n",
    "\n",
    "sns.set_style('white')\n",
    "\n",
    "fig, ax = plt.subplots()\n",
    "image = plot_model(model, ax)\n",
    "\n",
    "def update(frame):\n",
    "    model.step()\n",
    "    grid = make_image(model)\n",
    "    image.set_array(grid)\n",
    "    return [image]\n",
    "\n",
    "anim = FuncAnimation(fig, update, frames=500);\n",
    "writervideo = animation.FFMpegWriter(fps=12) \n",
    "anim.save(\"my_model.mp4\", writer=writervideo)\n",
    "\n"
   ]
  },
  {
   "cell_type": "markdown",
   "metadata": {},
   "source": [
    "you could use \n",
    "\n",
    "```python\n",
    "for _ in range(250):\n",
    "    model.step()\n",
    "```\n",
    "\n",
    "if you don't want the animation, or can't make the animation work"
   ]
  },
  {
   "cell_type": "code",
   "execution_count": 9,
   "metadata": {},
   "outputs": [
    {
     "data": {
      "text/html": [
       "<video src=\"my_model.mp4\" controls  width=\"600\" >\n",
       "      Your browser does not support the <code>video</code> element.\n",
       "    </video>"
      ],
      "text/plain": [
       "<IPython.core.display.Video object>"
      ]
     },
     "execution_count": 9,
     "metadata": {},
     "output_type": "execute_result"
    }
   ],
   "source": [
    "Video(\"my_model.mp4\", width=600)"
   ]
  },
  {
   "cell_type": "code",
   "execution_count": null,
   "metadata": {},
   "outputs": [],
   "source": [
    "import seaborn as sns\n",
    "sns.set_style('white')    \n",
    "\n",
    "model.datacollector.get_model_vars_dataframe().plot()\n",
    "sns.despine()\n",
    "\n",
    "fig = plt.gcf()\n",
    "ax = plt.gca()\n",
    "\n",
    "ax.set_xlabel('ticks')\n",
    "ax.set_ylabel('# cultures')\n",
    "\n",
    "save_fig(fig, '.', 'dynamics')\n",
    "\n",
    "plt.show()"
   ]
  },
  {
   "cell_type": "markdown",
   "metadata": {},
   "source": [
    "# Neighborhood size\n",
    "\n",
    "The original version of the model uses a Moore neighborhood with a radius of 1. Explore the dynamics of the model with a radius ranging from 1-3. How does the dynamics of the model change, and why?\n",
    "\n",
    "1. perform experiments for both random and weighted random selection of neighbors. Don't forget to account for the stochastic uncertainty\n",
    "2. Make an appropriate visualization showing the difference in dynamics over time for both versions of the model\n",
    "3. Describe in words how the behavior is different and explain this change in behavior.\n"
   ]
  },
  {
   "cell_type": "code",
   "execution_count": null,
   "metadata": {},
   "outputs": [],
   "source": []
  },
  {
   "cell_type": "markdown",
   "metadata": {},
   "source": [
    "# Torus\n",
    "\n",
    "To deal with edge effects, the model assumes the use of a Torus (i.e., donut). In reality, geography matters a lot and thus edge effects can occur. Explore the dynamics of the model with and without assuming a torus. How does the behaviour of the model change, and why?\n",
    "\n",
    "1. perform experiments for both random and weighted random selection of neighbors. Don't forget to account for the stochastic uncertainty\n",
    "2. Make an appropriate visualization showing the difference in dynamics over time for both versions of the model\n",
    "3. Describe in words how the behavior is different and explain this change in behavior.\n"
   ]
  },
  {
   "cell_type": "code",
   "execution_count": null,
   "metadata": {},
   "outputs": [],
   "source": []
  },
  {
   "cell_type": "markdown",
   "metadata": {},
   "source": [
    "# Neighbor interaction\n",
    "\n",
    "The provided implementation assumes that interaction is random yet proportional to how similar the neighbors are. What if instead, we assume completely random interaction? How does the behavior of the model change, and why?\n",
    "\n",
    "Note that in order to do this, you will have to change the existing implementation: \n",
    "* add a select_random keyword argument to the mode\n",
    "* set select_random as a class attribute on the Agent class\n",
    "* add a select_random_neigbor and select_weighted_random_neigbor method to the Agent class\n",
    "* pick which select_* method to use based on the value of the select_random class attribute\n",
    "\n",
    "1. Implement the modified model and agent\n",
    "2. perform experiments for both random and weighted random selection of neighbors. Don't forget to account for the stochastic uncertainty\n",
    "3. Make an appropriate visualization showing the difference in dynamics over time for both versions of the model\n",
    "4. Describe in words how the behavior is different and explain this change in behavior.\n",
    "5. Conceptually, how would you change the original implementation of the model as used for the first assignment such that the extensions needed for this assignment could have been implemented by merely extending the model and agent class."
   ]
  },
  {
   "cell_type": "code",
   "execution_count": null,
   "metadata": {},
   "outputs": [],
   "source": []
  }
 ],
 "metadata": {
  "kernelspec": {
   "display_name": "Python 3 (ipykernel)",
   "language": "python",
   "name": "python3"
  },
  "language_info": {
   "codemirror_mode": {
    "name": "ipython",
    "version": 3
   },
   "file_extension": ".py",
   "mimetype": "text/x-python",
   "name": "python",
   "nbconvert_exporter": "python",
   "pygments_lexer": "ipython3",
   "version": "3.9.7"
  }
 },
 "nbformat": 4,
 "nbformat_minor": 4
}
