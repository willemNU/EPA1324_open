{
 "cells": [
  {
   "cell_type": "code",
   "execution_count": 3,
   "id": "849f7508-84b4-486c-a64e-43f13e762ec1",
   "metadata": {},
   "outputs": [],
   "source": [
    "import numpy as np\n",
    "import pandas as pd\n",
    "import matplotlib.pyplot as plt\n",
    "import seaborn as sns\n",
    "\n",
    "from enum import Enum\n",
    "\n",
    "from mesa import Model, Agent\n",
    "from mesa.time import RandomActivation\n",
    "from mesa.space import SingleGrid\n",
    "from mesa.datacollection import DataCollector\n",
    "\n",
    "\n",
    "\n",
    "class StateOfTree(Enum):\n",
    "    HEALTHY = 0\n",
    "    BURNING = 1 \n",
    "    DEAD = 2\n",
    "\n",
    "    \n",
    "class ForestFire(Model):\n",
    "\n",
    "\n",
    "    def __init__(self, height=20, width=20, density=0.9, seed=None):\n",
    "           raise NotImplementedError\n",
    "\n",
    "                \n",
    "    def step(self):\n",
    "        \"\"\"\n",
    "        Run one step of the model.\n",
    "        \"\"\"\n",
    "        self.scheduler.step()\n",
    "\n",
    "\n",
    "class Tree(Agent):\n",
    "\n",
    "\n",
    "    def __init__(self, unique_id, pos, model):\n",
    "        super().__init__(unique_id, model)\n",
    "        self.pos = pos\n",
    "        self.status = StateOfTree.HEALTHY\n",
    "        \n",
    "    def step(self):\n",
    "        if self.status == StateOfTree.BURNING:\n",
    "            for neighbor in self.model.space.neighbor_iter(self.pos):\n",
    "                if neighbor.status == StateOfTree.HEALTHY:\n",
    "                    neighbor.status = StateOfTree.BURNING\n",
    "            # implicit assumption of 1 tick for burning down\n",
    "            self.status = StateOfTree.DEAD\n",
    "\n",
    "\n",
    "def plot_model(model):\n",
    "    sns.set_style('white')\n",
    "    fig, ax = plt.subplots()\n",
    "    palette = sns.color_palette()\n",
    "    colors = [palette[i] for i in [2, 3, 5, 7]]\n",
    "\n",
    "    grid = np.zeros((model.space.height, model.space.width, 3))\n",
    "    \n",
    "    for i, row in enumerate(model.space.grid):\n",
    "        for j, cell in enumerate(row):\n",
    "            if cell:\n",
    "                color = colors[cell.status.value]\n",
    "            else:\n",
    "                color = colors[3]\n",
    "            grid[i,j, :] = color\n",
    "    ax.imshow(grid)\n",
    "    ax.set_xticks([])\n",
    "    ax.set_yticks([])\n",
    "    return fig\n",
    "    \n",
    "    "
   ]
  },
  {
   "cell_type": "code",
   "execution_count": 4,
   "id": "02455bf9-e479-4c40-a1ac-95f6f1e0ba04",
   "metadata": {},
   "outputs": [
    {
     "data": {
      "image/png": "[encoded data removed]",
      "text/plain": [
       "<Figure size 864x576 with 1 Axes>"
      ]
     },
     "metadata": {},
     "output_type": "display_data"
    }
   ],
   "source": [
    "model = ForestFire(100, 100, seed=12345)\n",
    "model.space[0,0].status = StateOfTree.BURNING\n",
    "plot_model(model)\n",
    "plt.show()"
   ]
  },
  {
   "cell_type": "code",
   "execution_count": 5,
   "id": "452540eb-0ac5-4b73-9619-b82f4b46f605",
   "metadata": {},
   "outputs": [
    {
     "data": {
      "image/png": "[encoded data removed]",
      "text/plain": [
       "<Figure size 864x576 with 1 Axes>"
      ]
     },
     "metadata": {},
     "output_type": "display_data"
    }
   ],
   "source": [
    "from matplotlib.animation import FuncAnimation\n",
    "from matplotlib import animation, rc, collections\n",
    "from matplotlib import pyplot as plt\n",
    "from IPython.display import HTML\n",
    "\n",
    "model = ForestFire(100, 100, 0.6, seed=12345)\n",
    "model.space[0,0].status = StateOfTree.BURNING\n",
    "\n",
    "\n",
    "sns.set_style('white')\n",
    "fig, ax = plt.subplots()\n",
    "palette = sns.color_palette()\n",
    "colors = [palette[i] for i in [2, 3, 5, 7]]\n",
    "\n",
    "def get_grid(model):\n",
    "    grid = np.zeros((model.space.height, model.space.width, 3))\n",
    "    \n",
    "    for i, row in enumerate(model.space.grid):\n",
    "        for j, cell in enumerate(row):\n",
    "            if cell:\n",
    "                color = colors[cell.status.value]\n",
    "            else:\n",
    "                color = colors[3]\n",
    "            grid[i,j, :] = color\n",
    "    return grid\n",
    "\n",
    "grid = get_grid(model)\n",
    "im = ax.imshow(grid)\n",
    "ax.set_xticks([])\n",
    "ax.set_yticks([])\n",
    "\n",
    "\n",
    "def update(frame):\n",
    "    model.step()\n",
    "    \n",
    "    grid = get_grid(model)\n",
    "    \n",
    "    im.set_data(grid)\n",
    "    # ax.set(title=str(number_of_cars) + \" cars on the road, t= \" + str(model.scheduler.steps))\n",
    "\n",
    "    return im\n",
    "\n",
    "anim = FuncAnimation(fig, update, interval=100, frames=40);\n",
    "HTML(anim.to_html5_video())  \n",
    "\n",
    "# writervideo = animation.FFMpegWriter(fps=12,bitrate=900) \n",
    "# anim.save(\"forest_fire.mp4\", writer=writervideo,dpi=200)"
   ]
  },
  {
   "cell_type": "code",
   "execution_count": null,
   "id": "adebde54-6b61-430c-acfa-d738a45e587f",
   "metadata": {},
   "outputs": [],
   "source": []
  }
 ],
 "metadata": {
  "kernelspec": {
   "display_name": "Python 3 (ipykernel)",
   "language": "python",
   "name": "python3"
  },
  "language_info": {
   "codemirror_mode": {
    "name": "ipython",
    "version": 3
   },
   "file_extension": ".py",
   "mimetype": "text/x-python",
   "name": "python",
   "nbconvert_exporter": "python",
   "pygments_lexer": "ipython3",
   "version": "3.9.7"
  }
 },
 "nbformat": 4,
 "nbformat_minor": 5
}
