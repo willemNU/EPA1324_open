{
 "cells": [
  {
   "cell_type": "code",
   "execution_count": 1,
   "id": "aed42280-315e-454f-8570-ecd6d9899094",
   "metadata": {},
   "outputs": [],
   "source": [
    "import ipykernel"
   ]
  },
  {
   "cell_type": "code",
   "execution_count": 2,
   "id": "a080582b-6cae-425e-97bf-df3d382c4df0",
   "metadata": {},
   "outputs": [
    {
     "data": {
      "text/plain": [
       "'6.4.1'"
      ]
     },
     "execution_count": 2,
     "metadata": {},
     "output_type": "execute_result"
    }
   ],
   "source": [
    "ipykernel.__version__"
   ]
  },
  {
   "cell_type": "code",
   "execution_count": null,
   "id": "66a596b2-dbb0-4a7c-b626-b238ca9a25d5",
   "metadata": {},
   "outputs": [],
   "source": []
  }
 ],
 "metadata": {
  "kernelspec": {
   "display_name": "Python 3 (ipykernel)",
   "language": "python",
   "name": "python3"
  },
  "language_info": {
   "codemirror_mode": {
    "name": "ipython",
    "version": 3
   },
   "file_extension": ".py",
   "mimetype": "text/x-python",
   "name": "python",
   "nbconvert_exporter": "python",
   "pygments_lexer": "ipython3",
   "version": "3.9.7"
  }
 },
 "nbformat": 4,
 "nbformat_minor": 5
}
